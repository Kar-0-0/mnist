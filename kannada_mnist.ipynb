{
 "cells": [
  {
   "cell_type": "code",
   "execution_count": 34,
   "metadata": {},
   "outputs": [],
   "source": [
    "import pandas as pd\n",
    "import torch\n",
    "import torch.nn as nn\n",
    "import torch.nn.functional as F "
   ]
  },
  {
   "cell_type": "code",
   "execution_count": 95,
   "metadata": {},
   "outputs": [],
   "source": [
    "X_train = pd.read_csv('data/train_kan.csv')\n",
    "X_test = pd.read_csv('data/test_kan.csv')"
   ]
  },
  {
   "cell_type": "code",
   "execution_count": 57,
   "metadata": {},
   "outputs": [
    {
     "data": {
      "text/plain": [
       "torch.Size([42000, 1])"
      ]
     },
     "execution_count": 57,
     "metadata": {},
     "output_type": "execute_result"
    }
   ],
   "source": [
    "X = torch.tensor(X_train.iloc[:, 1:].values)\n",
    "y = torch.tensor(X_train.iloc[:, :1].values)\n",
    "y.shape"
   ]
  },
  {
   "cell_type": "code",
   "execution_count": 58,
   "metadata": {},
   "outputs": [],
   "source": [
    "class Net(nn.Module):\n",
    "    def __init__(self):\n",
    "        super().__init__()\n",
    "        self.l1 = nn.Linear(784, 200)\n",
    "        self.l2 = nn.Linear(200, 10)\n",
    "    def forward(self, x):\n",
    "        x = self.l1(x)\n",
    "        x = self.l2(F.relu(x))\n",
    "        return x"
   ]
  },
  {
   "cell_type": "code",
   "execution_count": 73,
   "metadata": {},
   "outputs": [
    {
     "name": "stdout",
     "output_type": "stream",
     "text": [
      "Epoch: 0 / 2000 Loss: 50.04924774169922\n",
      "Epoch: 100 / 2000 Loss: 1.1326535940170288\n",
      "Epoch: 200 / 2000 Loss: 1.059799313545227\n",
      "Epoch: 300 / 2000 Loss: 0.8913412094116211\n",
      "Epoch: 400 / 2000 Loss: 0.9665771126747131\n",
      "Epoch: 500 / 2000 Loss: 0.7066649794578552\n",
      "Epoch: 600 / 2000 Loss: 0.7968693971633911\n",
      "Epoch: 700 / 2000 Loss: 0.8023806214332581\n",
      "Epoch: 800 / 2000 Loss: 0.5425399541854858\n",
      "Epoch: 900 / 2000 Loss: 0.6825492978096008\n",
      "Epoch: 1000 / 2000 Loss: 0.9766929745674133\n",
      "Epoch: 1100 / 2000 Loss: 0.7693346738815308\n",
      "Epoch: 1200 / 2000 Loss: 0.822264552116394\n",
      "Epoch: 1300 / 2000 Loss: 0.8588532209396362\n",
      "Epoch: 1400 / 2000 Loss: 1.083083987236023\n",
      "Epoch: 1500 / 2000 Loss: 0.7164874076843262\n",
      "Epoch: 1600 / 2000 Loss: 0.6011970639228821\n",
      "Epoch: 1700 / 2000 Loss: 0.6690800786018372\n",
      "Epoch: 1800 / 2000 Loss: 1.256234884262085\n",
      "Epoch: 1900 / 2000 Loss: 1.3986696004867554\n",
      "Epoch: 2000 / 2000 Loss: 0.7965167760848999\n"
     ]
    }
   ],
   "source": [
    "myNet = Net()\n",
    "optimizer = torch.optim.AdamW(myNet.parameters(), lr=0.01)\n",
    "epochs = 2000\n",
    "# decay_rate = 0.2\n",
    "# my_lr_scheduler = torch.optim.lr_scheduler.ExponentialLR(optimizer=optimizer, gamma=decay_rate)\n",
    "\n",
    "for epoch in range(epochs+1):\n",
    "    optimizer.zero_grad()\n",
    "    bs = torch.randint(0, X.shape[0], (64,))\n",
    "    logits = myNet(X[bs].float())\n",
    "    loss = F.cross_entropy(logits, y[bs].squeeze())\n",
    "    loss.backward()\n",
    "    optimizer.step()\n",
    "    if epoch % 100 == 0:\n",
    "        print(f\"Epoch: {epoch} / {epochs} Loss: {loss.item()}\")\n"
   ]
  },
  {
   "cell_type": "code",
   "execution_count": 87,
   "metadata": {},
   "outputs": [
    {
     "data": {
      "text/plain": [
       "torch.Size([28000])"
      ]
     },
     "execution_count": 87,
     "metadata": {},
     "output_type": "execute_result"
    }
   ],
   "source": [
    "outs = myNet(torch.tensor(X_test.values).float())\n",
    "outs = torch.argmax(outs, dim=1)\n",
    "outs.shape\n"
   ]
  },
  {
   "cell_type": "code",
   "execution_count": 93,
   "metadata": {},
   "outputs": [],
   "source": [
    "data = {\n",
    "    'ImageId' : torch.arange(1, outs.shape[0]+1),\n",
    "    'Label' : outs\n",
    "}\n",
    "df = pd.DataFrame(data)"
   ]
  },
  {
   "cell_type": "code",
   "execution_count": 94,
   "metadata": {},
   "outputs": [],
   "source": [
    "df.to_csv(\"output_kan.csv\", index=False)"
   ]
  },
  {
   "cell_type": "code",
   "execution_count": null,
   "metadata": {},
   "outputs": [],
   "source": []
  }
 ],
 "metadata": {
  "kernelspec": {
   "display_name": "Python 3",
   "language": "python",
   "name": "python3"
  },
  "language_info": {
   "codemirror_mode": {
    "name": "ipython",
    "version": 3
   },
   "file_extension": ".py",
   "mimetype": "text/x-python",
   "name": "python",
   "nbconvert_exporter": "python",
   "pygments_lexer": "ipython3",
   "version": "3.11.0"
  }
 },
 "nbformat": 4,
 "nbformat_minor": 2
}
