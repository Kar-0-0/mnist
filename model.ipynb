{
 "cells": [
  {
   "cell_type": "markdown",
   "metadata": {},
   "source": [
    "# Load Data"
   ]
  },
  {
   "cell_type": "code",
   "execution_count": 3,
   "metadata": {},
   "outputs": [],
   "source": [
    "import pandas as pd\n",
    "import torch\n",
    "import torch.nn as nn\n",
    "import torch.nn.functional as F "
   ]
  },
  {
   "cell_type": "code",
   "execution_count": 10,
   "metadata": {},
   "outputs": [],
   "source": [
    "X_train = pd.read_csv('train.csv')\n",
    "X_test = pd.read_csv('test.csv')"
   ]
  },
  {
   "cell_type": "code",
   "execution_count": 40,
   "metadata": {},
   "outputs": [],
   "source": [
    "X = torch.tensor(X_train.iloc[:, 1:].values).float()"
   ]
  },
  {
   "cell_type": "code",
   "execution_count": 41,
   "metadata": {},
   "outputs": [
    {
     "data": {
      "text/plain": [
       "torch.Size([42000, 784])"
      ]
     },
     "execution_count": 41,
     "metadata": {},
     "output_type": "execute_result"
    }
   ],
   "source": [
    "X.shape # (example, image size)"
   ]
  },
  {
   "cell_type": "code",
   "execution_count": 42,
   "metadata": {},
   "outputs": [],
   "source": [
    "y = torch.tensor(X_train.iloc[:, :1].values)"
   ]
  },
  {
   "cell_type": "code",
   "execution_count": 43,
   "metadata": {},
   "outputs": [
    {
     "data": {
      "text/plain": [
       "torch.Size([42000, 1])"
      ]
     },
     "execution_count": 43,
     "metadata": {},
     "output_type": "execute_result"
    }
   ],
   "source": [
    "y.shape"
   ]
  },
  {
   "cell_type": "code",
   "execution_count": 44,
   "metadata": {},
   "outputs": [],
   "source": [
    "class Net(nn.Module):\n",
    "    def __init__(self):\n",
    "        super().__init__()\n",
    "        self.l1 = nn.Linear(784, 200)\n",
    "        self.l2 = nn.Linear(200, 10)\n",
    "    def forward(self, x):\n",
    "        x = self.l1(x)\n",
    "        x = self.l2(F.relu(x))\n",
    "        return x"
   ]
  },
  {
   "cell_type": "code",
   "execution_count": 64,
   "metadata": {},
   "outputs": [
    {
     "name": "stdout",
     "output_type": "stream",
     "text": [
      "Epoch 0 / 1000 Loss: 49.406105041503906\n",
      "Epoch 100 / 1000 Loss: 1.1855688095092773\n",
      "Epoch 200 / 1000 Loss: 0.5101887583732605\n",
      "Epoch 300 / 1000 Loss: 0.6909492015838623\n",
      "Epoch 400 / 1000 Loss: 0.7854114770889282\n",
      "Epoch 500 / 1000 Loss: 0.2872884273529053\n",
      "Epoch 600 / 1000 Loss: 0.5885886549949646\n",
      "Epoch 700 / 1000 Loss: 0.9194672703742981\n",
      "Epoch 800 / 1000 Loss: 0.6654410362243652\n",
      "Epoch 900 / 1000 Loss: 0.4323260486125946\n",
      "Epoch 1000 / 1000 Loss: 0.6369647979736328\n"
     ]
    }
   ],
   "source": [
    "myNet = Net()\n",
    "optimizer = torch.optim.Adam(myNet.parameters(), lr=0.01)\n",
    "epochs = 1000\n",
    "\n",
    "for i in range(epochs+1):\n",
    "    optimizer.zero_grad()\n",
    "    ix = torch.randint(0, X.shape[0], (64,))\n",
    "    logits = myNet(X[ix])\n",
    "    loss = F.cross_entropy(logits, y[ix].squeeze())\n",
    "    loss.backward()\n",
    "    optimizer.step()\n",
    "    if i % 100 == 0:\n",
    "        print(f\"Epoch {i} / {epochs} Loss: {loss.item()}\")"
   ]
  },
  {
   "cell_type": "code",
   "execution_count": 81,
   "metadata": {},
   "outputs": [
    {
     "data": {
      "text/plain": [
       "torch.Size([28000])"
      ]
     },
     "execution_count": 81,
     "metadata": {},
     "output_type": "execute_result"
    }
   ],
   "source": [
    "raw_outs = myNet(torch.tensor(X_test.values).float())\n",
    "probs = F.softmax(raw_outs, dim=1)\n",
    "outs = torch.argmax(probs, dim=1)\n",
    "outs.shape"
   ]
  },
  {
   "cell_type": "code",
   "execution_count": null,
   "metadata": {},
   "outputs": [],
   "source": [
    "data = {\n",
    "    \"ImageId\": torch.arange(1, 28001),  # List of Image IDs\n",
    "    \"Label\": outs                       # Corresponding labels\n",
    "}\n",
    "df = pd.DataFrame(data)"
   ]
  },
  {
   "cell_type": "code",
   "execution_count": 79,
   "metadata": {},
   "outputs": [],
   "source": [
    "df.to_csv(\"output.csv\", index=False)"
   ]
  },
  {
   "cell_type": "code",
   "execution_count": null,
   "metadata": {},
   "outputs": [],
   "source": []
  }
 ],
 "metadata": {
  "kernelspec": {
   "display_name": "Python 3",
   "language": "python",
   "name": "python3"
  },
  "language_info": {
   "codemirror_mode": {
    "name": "ipython",
    "version": 3
   },
   "file_extension": ".py",
   "mimetype": "text/x-python",
   "name": "python",
   "nbconvert_exporter": "python",
   "pygments_lexer": "ipython3",
   "version": "3.11.0"
  }
 },
 "nbformat": 4,
 "nbformat_minor": 2
}
